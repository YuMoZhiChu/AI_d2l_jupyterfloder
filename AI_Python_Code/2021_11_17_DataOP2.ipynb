{
 "cells": [
  {
   "cell_type": "code",
   "execution_count": 7,
   "id": "031dc4b5",
   "metadata": {},
   "outputs": [
    {
     "name": "stdout",
     "output_type": "stream",
     "text": [
      "a =  tensor([[0],\n",
      "        [1],\n",
      "        [2]])\n",
      "b =  tensor([[0, 1]])\n",
      "a+b =  tensor([[0, 1],\n",
      "        [1, 2],\n",
      "        [2, 3]])\n",
      "a =  tensor([[0, 1],\n",
      "        [2, 3],\n",
      "        [4, 5]])\n",
      "b =  tensor([[0, 1, 2],\n",
      "        [3, 4, 5]])\n"
     ]
    }
   ],
   "source": [
    "import torch\n",
    "\n",
    "a = torch.arange(3).reshape((3, 1))\n",
    "b = torch.arange(2).reshape((1, 2))\n",
    "\n",
    "print(\"a = \", a)\n",
    "print(\"b = \", b)\n",
    "\n",
    "# 维度一样的 2 个张量, 就算是 Shape 不一样, 也能相加\n",
    "# 因为会自动拓展成, 多的那个\n",
    "print(\"a+b = \", a+b)\n",
    "\n",
    "a = torch.arange(6).reshape((3, 2))\n",
    "b = torch.arange(6).reshape((2, 3))\n",
    "\n",
    "print(\"a = \", a)\n",
    "print(\"b = \", b)\n",
    "# 这种情况会直接报错, 因为没法通过 复制 来进行广播\n",
    "# print(\"a+b = \", a+b)\n"
   ]
  },
  {
   "cell_type": "code",
   "execution_count": 12,
   "id": "de4a85b9",
   "metadata": {},
   "outputs": [
    {
     "name": "stdout",
     "output_type": "stream",
     "text": [
      "tensor([ 8.,  9., 10., 11.])\n",
      "tensor([[ 4.,  5.,  6.,  7.],\n",
      "        [ 8.,  9., 10., 11.]])\n",
      "tensor([[ 0.,  1.,  2.,  3.],\n",
      "        [ 4.,  5.,  9.,  7.],\n",
      "        [ 8.,  9., 10., 11.]])\n",
      "tensor([[12., 12., 12., 12.],\n",
      "        [12., 12., 12., 12.],\n",
      "        [ 8.,  9., 10., 11.]])\n"
     ]
    }
   ],
   "source": [
    "import torch\n",
    "\n",
    "X = torch.arange(12, dtype=torch.float32).reshape((3,4))\n",
    "\n",
    "# 取特定的行\n",
    "print(X[-1])\n",
    "print(X[1:3])\n",
    "\n",
    "# 通过坐标来写值\n",
    "X[1, 2] = 9\n",
    "print(X)\n",
    "\n",
    "# 多处赋值\n",
    "X[0:2, :] = 12\n",
    "print(X)\n"
   ]
  },
  {
   "cell_type": "code",
   "execution_count": 28,
   "id": "b69253e7",
   "metadata": {},
   "outputs": [
    {
     "name": "stdout",
     "output_type": "stream",
     "text": [
      "False\n",
      "True\n",
      "True\n"
     ]
    }
   ],
   "source": [
    "import torch\n",
    "\n",
    "X = torch.arange(12, dtype=torch.float32).reshape((3,4))\n",
    "Y = torch.tensor([[2.0, 1, 4, 3], [1, 2, 3, 4], [4, 3, 2, 1]])\n",
    "\n",
    "# 这种操作, 会导致一次拷贝, 比较耗\n",
    "before = id(Y)\n",
    "Y = Y + X\n",
    "print(id(Y) == before)\n",
    "\n",
    "# : 表示逐元素的赋值操作, 这样会节省内存\n",
    "Y2 = torch.tensor([[2.0, 1, 4, 3], [1, 2, 3, 4], [4, 3, 2, 1]])\n",
    "before2 = id(Y2)\n",
    "Y2[:] = Y2+X\n",
    "print(id(Y2) == before2)\n",
    "\n",
    "# 当然更简单的一种形式就是 +=\n",
    "Y3 = torch.tensor([[2.0, 1, 4, 3], [1, 2, 3, 4], [4, 3, 2, 1]])\n",
    "before3 = id(Y3)\n",
    "Y3 += X\n",
    "print(id(Y3) == before3)"
   ]
  },
  {
   "cell_type": "code",
   "execution_count": 32,
   "id": "a41c3dd2",
   "metadata": {},
   "outputs": [
    {
     "name": "stdout",
     "output_type": "stream",
     "text": [
      "<class 'numpy.ndarray'>\n",
      "<class 'torch.Tensor'>\n",
      "tensor([3.5000]) 3.5 3.5 3\n"
     ]
    }
   ],
   "source": [
    "import torch\n",
    "\n",
    "# 支持跟 numpy 的转换\n",
    "X = torch.arange(12, dtype=torch.float32).reshape((3,4))\n",
    "A = X.numpy()\n",
    "B = torch.tensor(A)\n",
    "print(type(A))\n",
    "print(type(B))\n",
    "\n",
    "# 支持基础数据类型的转换\n",
    "a = torch.tensor([3.5])\n",
    "print(a, a.item(), float(a), int(a))\n"
   ]
  },
  {
   "cell_type": "code",
   "execution_count": null,
   "id": "fb849b10",
   "metadata": {},
   "outputs": [],
   "source": []
  }
 ],
 "metadata": {
  "kernelspec": {
   "display_name": "Python 3 (ipykernel)",
   "language": "python",
   "name": "python3"
  },
  "language_info": {
   "codemirror_mode": {
    "name": "ipython",
    "version": 3
   },
   "file_extension": ".py",
   "mimetype": "text/x-python",
   "name": "python",
   "nbconvert_exporter": "python",
   "pygments_lexer": "ipython3",
   "version": "3.8.12"
  }
 },
 "nbformat": 4,
 "nbformat_minor": 5
}
