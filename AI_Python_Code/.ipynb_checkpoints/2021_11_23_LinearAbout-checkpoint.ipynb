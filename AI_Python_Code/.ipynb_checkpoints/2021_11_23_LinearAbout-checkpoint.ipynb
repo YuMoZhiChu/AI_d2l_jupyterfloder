{
 "cells": [
  {
   "cell_type": "code",
   "execution_count": 5,
   "id": "3a97d521",
   "metadata": {},
   "outputs": [
    {
     "name": "stdout",
     "output_type": "stream",
     "text": [
      "tensor([5.]) tensor([6.]) tensor([1.5000]) tensor([9.])\n",
      "tensor([0, 1, 2, 3])\n",
      "torch.Size([4])\n"
     ]
    }
   ],
   "source": [
    "import torch\n",
    "\n",
    "x = torch.tensor([3.0])\n",
    "y = torch.tensor([2.0])\n",
    "\n",
    "# 标量\n",
    "print(x + y, x * y, x / y, x**y)\n",
    "\n",
    "x = torch.arange(4)\n",
    "print(x) # 向量X\n",
    "\n",
    "# 列出每个轴(维度) 的长度\n",
    "print(x.shape)"
   ]
  },
  {
   "cell_type": "code",
   "execution_count": 9,
   "id": "90df1aff",
   "metadata": {},
   "outputs": [
    {
     "name": "stdout",
     "output_type": "stream",
     "text": [
      "tensor([[ 0,  1,  2,  3],\n",
      "        [ 4,  5,  6,  7],\n",
      "        [ 8,  9, 10, 11],\n",
      "        [12, 13, 14, 15],\n",
      "        [16, 17, 18, 19]])\n",
      "tensor([[ 0,  4,  8, 12, 16],\n",
      "        [ 1,  5,  9, 13, 17],\n",
      "        [ 2,  6, 10, 14, 18],\n",
      "        [ 3,  7, 11, 15, 19]])\n",
      "tensor([[True, True, True],\n",
      "        [True, True, True],\n",
      "        [True, True, True]])\n",
      "tensor([[[ 0,  1,  2,  3],\n",
      "         [ 4,  5,  6,  7],\n",
      "         [ 8,  9, 10, 11]],\n",
      "\n",
      "        [[12, 13, 14, 15],\n",
      "         [16, 17, 18, 19],\n",
      "         [20, 21, 22, 23]]])\n"
     ]
    }
   ],
   "source": [
    "import torch\n",
    "\n",
    "A = torch.arange(20).reshape(5, 4)\n",
    "print(A) # 创建一个 5*4 的矩阵\n",
    "\n",
    "print(A.T) # 输出矩阵的转置 5*4 --> 4*5\n",
    "\n",
    "# 对称矩阵, 即 转置 == 自己\n",
    "B = torch.tensor([[1, 2, 3], [2, 0, 4], [3, 4, 5]])\n",
    "print(B == B.T)\n",
    "\n",
    "X = torch.arange(24).reshape(2, 3, 4)\n",
    "print(X) # 在这里, 4 是 最后一个维度, 体现在元素中的 行 中，列 是 第二个维度， 2 是第一个维度，可以看到有 2 大块"
   ]
  },
  {
   "cell_type": "code",
   "execution_count": 12,
   "id": "a3b6fcc8",
   "metadata": {},
   "outputs": [
    {
     "name": "stdout",
     "output_type": "stream",
     "text": [
      "tensor([[ 0.,  1.,  2.,  3.],\n",
      "        [ 4.,  5.,  6.,  7.],\n",
      "        [ 8.,  9., 10., 11.],\n",
      "        [12., 13., 14., 15.],\n",
      "        [16., 17., 18., 19.]]) \n",
      " tensor([[ 0.,  2.,  4.,  6.],\n",
      "        [ 8., 10., 12., 14.],\n",
      "        [16., 18., 20., 22.],\n",
      "        [24., 26., 28., 30.],\n",
      "        [32., 34., 36., 38.]])\n",
      "tensor([[  0.,   1.,   4.,   9.],\n",
      "        [ 16.,  25.,  36.,  49.],\n",
      "        [ 64.,  81., 100., 121.],\n",
      "        [144., 169., 196., 225.],\n",
      "        [256., 289., 324., 361.]])\n"
     ]
    }
   ],
   "source": [
    "import torch\n",
    "\n",
    "A = torch.arange(20, dtype=torch.float32).reshape(5, 4)\n",
    "# 这就是深拷贝了\n",
    "B = A.clone()  # 通过分配新内存，将A的一个副本分配给B\n",
    "print(A, \"\\n\", A + B)\n",
    "\n",
    "# 这个是矩阵的 按元素相乘 称为 哈达玛积，⊙\n",
    "print(A * B)"
   ]
  },
  {
   "cell_type": "code",
   "execution_count": 15,
   "id": "0ea07025",
   "metadata": {},
   "outputs": [
    {
     "name": "stdout",
     "output_type": "stream",
     "text": [
      "tensor([0., 1., 2., 3.]) tensor(6.)\n",
      "tensor([40., 45., 50., 55.]) torch.Size([4])\n",
      "tensor([[[ 0.,  1.,  2.,  3.,  4.],\n",
      "         [ 5.,  6.,  7.,  8.,  9.]],\n",
      "\n",
      "        [[10., 11., 12., 13., 14.],\n",
      "         [15., 16., 17., 18., 19.]]]) \n",
      " tensor([[10., 12., 14., 16., 18.],\n",
      "        [20., 22., 24., 26., 28.]]) torch.Size([2, 5])\n",
      "tensor([ 45., 145.]) torch.Size([2])\n",
      "tensor([[ 5.,  6.,  7.,  8.,  9.],\n",
      "        [10., 11., 12., 13., 14.]])\n",
      "tensor([[True, True, True, True, True],\n",
      "        [True, True, True, True, True]])\n",
      "tensor([[[ 5.,  7.,  9., 11., 13.]],\n",
      "\n",
      "        [[25., 27., 29., 31., 33.]]])\n",
      "torch.Size([2, 1, 5])\n",
      "torch.Size([2, 5])\n",
      "tensor([[[0.0000, 0.1429, 0.2222, 0.2727, 0.3077],\n",
      "         [1.0000, 0.8571, 0.7778, 0.7273, 0.6923]],\n",
      "\n",
      "        [[0.4000, 0.4074, 0.4138, 0.4194, 0.4242],\n",
      "         [0.6000, 0.5926, 0.5862, 0.5806, 0.5758]]])\n"
     ]
    }
   ],
   "source": [
    "import torch\n",
    "\n",
    "# 全部求和\n",
    "x = torch.arange(4, dtype=torch.float32)\n",
    "print(x, x.sum())\n",
    "\n",
    "# 按维度来求和, 即 把求和的那个维度，压为一个 sum   (保留的就是剩下的维度)\n",
    "A = torch.arange(20, dtype=torch.float32).reshape(5, 4)\n",
    "A_sum_axis0 = A.sum(axis=0)\n",
    "print(A_sum_axis0, A_sum_axis0.shape)\n",
    "\n",
    "# 按照一个维度求和, 剩下两个维度\n",
    "A = torch.arange(20, dtype=torch.float32).reshape(2, 2, 5)\n",
    "A_sum_axis0 = A.sum(axis=0)\n",
    "print(A,\"\\n\",A_sum_axis0, A_sum_axis0.shape)\n",
    "\n",
    "# 甚至可以多维度求和\n",
    "A_sum_axis12 = A.sum(axis=[1,2])\n",
    "print(A_sum_axis12, A_sum_axis12.shape)\n",
    "\n",
    "# 求和可以，求平均数也行，也可以按维度来\n",
    "# mean 只能求 float 的平均数, 整数不行\n",
    "print(A.mean(axis=0))\n",
    "\n",
    "# 当然, 也可以用总和去除以维度\n",
    "print(A.mean(axis=0) == A.sum(axis=0)/A.shape[0])\n",
    "\n",
    "# 维度不丢, 作为仍然有保存为一个轴\n",
    "sum_A_F = A.sum(axis=1, keepdims=False)\n",
    "sum_A = A.sum(axis=1, keepdims=True)\n",
    "print(sum_A)\n",
    "print(sum_A.shape)\n",
    "print(sum_A_F.shape)\n",
    "\n",
    "\n",
    "# 因为在这里 维度没有变，所以可以用来做广播，就是对应的那个维度，都去除以那个唯一的数\n",
    "# 因为广播的前提，是维度个数一样，且能被整除（当然，这里那个除的维度是 1）\n",
    "print(A / sum_A)\n",
    "\n"
   ]
  },
  {
   "cell_type": "code",
   "execution_count": null,
   "id": "f6379f6e",
   "metadata": {},
   "outputs": [],
   "source": []
  }
 ],
 "metadata": {
  "kernelspec": {
   "display_name": "Python 3 (ipykernel)",
   "language": "python",
   "name": "python3"
  },
  "language_info": {
   "codemirror_mode": {
    "name": "ipython",
    "version": 3
   },
   "file_extension": ".py",
   "mimetype": "text/x-python",
   "name": "python",
   "nbconvert_exporter": "python",
   "pygments_lexer": "ipython3",
   "version": "3.8.12"
  }
 },
 "nbformat": 4,
 "nbformat_minor": 5
}
