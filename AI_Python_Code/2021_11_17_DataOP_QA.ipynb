{
 "cells": [
  {
   "cell_type": "code",
   "execution_count": 8,
   "id": "16a80c26",
   "metadata": {},
   "outputs": [
    {
     "name": "stdout",
     "output_type": "stream",
     "text": [
      "tensor([2, 2, 2, 2, 2, 2, 2, 2, 2, 2, 2, 2])\n"
     ]
    }
   ],
   "source": [
    "import torch\n",
    "\n",
    "a = torch.arange(12)\n",
    "b = a.reshape((3,4))\n",
    "b[:] = 2\n",
    "print(a) # reshape 这里指向的数据是一样的"
   ]
  },
  {
   "cell_type": "code",
   "execution_count": 7,
   "id": "630fe2c9",
   "metadata": {},
   "outputs": [
    {
     "name": "stdout",
     "output_type": "stream",
     "text": [
      "tensor([2, 2, 2, 2, 2, 2, 2, 2, 2, 2, 2, 2])\n"
     ]
    }
   ],
   "source": [
    "import torch\n",
    "\n",
    "a = torch.arange(12)\n",
    "b = a.view((3,4))\n",
    "b[:] = 2\n",
    "print(a) # reshape 这里指向的数据是一样的"
   ]
  },
  {
   "cell_type": "code",
   "execution_count": 19,
   "id": "970e3710",
   "metadata": {},
   "outputs": [
    {
     "data": {
      "text/plain": [
       "(tensor([[0, 1, 2],\n",
       "         [3, 4, 5],\n",
       "         [6, 7, 8]]),\n",
       " tensor([[0, 3, 6],\n",
       "         [1, 4, 7],\n",
       "         [2, 5, 8]]),\n",
       " tensor([2, 2, 2, 2, 2, 2, 2, 2, 2]))"
      ]
     },
     "execution_count": 19,
     "metadata": {},
     "output_type": "execute_result"
    }
   ],
   "source": [
    "a = torch.arange(9).reshape(3,3)\n",
    "b = a.permute(1,0)\n",
    "c = b.reshape(9)\n",
    "c[:] = 2\n",
    "# 如果在内存中做了处理, c 在 b 调用 reshape 时就会生成一个新的 张量\n",
    "a,b,c"
   ]
  },
  {
   "cell_type": "code",
   "execution_count": 24,
   "id": "84fed21e",
   "metadata": {},
   "outputs": [
    {
     "data": {
      "text/plain": [
       "(tensor([[2, 2, 2],\n",
       "         [2, 2, 2],\n",
       "         [2, 2, 2]]),\n",
       " tensor([[2, 2, 2],\n",
       "         [2, 2, 2],\n",
       "         [2, 2, 2]]),\n",
       " tensor([[2, 2, 2],\n",
       "         [2, 2, 2],\n",
       "         [2, 2, 2]]))"
      ]
     },
     "execution_count": 24,
     "metadata": {},
     "output_type": "execute_result"
    }
   ],
   "source": [
    "a = torch.arange(9).reshape(3,3)\n",
    "b = a.permute(1,0)\n",
    "c = b.view((3,3))\n",
    "c[:] = 2\n",
    "# 如果在内存中做了处理, c 在 b 调用 reshape 时就会生成一个新的 张量\n",
    "a,b,c"
   ]
  },
  {
   "cell_type": "code",
   "execution_count": null,
   "id": "08dcd2ee",
   "metadata": {},
   "outputs": [],
   "source": []
  },
  {
   "cell_type": "code",
   "execution_count": null,
   "id": "3c6dd326",
   "metadata": {},
   "outputs": [],
   "source": []
  },
  {
   "cell_type": "code",
   "execution_count": null,
   "id": "316a7e3d",
   "metadata": {},
   "outputs": [],
   "source": []
  }
 ],
 "metadata": {
  "kernelspec": {
   "display_name": "Python 3 (ipykernel)",
   "language": "python",
   "name": "python3"
  },
  "language_info": {
   "codemirror_mode": {
    "name": "ipython",
    "version": 3
   },
   "file_extension": ".py",
   "mimetype": "text/x-python",
   "name": "python",
   "nbconvert_exporter": "python",
   "pygments_lexer": "ipython3",
   "version": "3.8.12"
  }
 },
 "nbformat": 4,
 "nbformat_minor": 5
}
