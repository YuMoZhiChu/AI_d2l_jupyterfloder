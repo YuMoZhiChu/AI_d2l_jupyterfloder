{
 "cells": [
  {
   "cell_type": "code",
   "execution_count": 28,
   "id": "031dc4b5",
   "metadata": {},
   "outputs": [
    {
     "name": "stdout",
     "output_type": "stream",
     "text": [
      "   NumRooms Alley   Price\n",
      "0       NaN  Pave  127500\n",
      "1       2.0   NaN  106000\n",
      "2       4.0   NaN  178100\n",
      "3       NaN   NAN  140000\n",
      "   NumRooms Alley\n",
      "0       NaN  Pave\n",
      "1       2.0   NaN\n",
      "2       4.0   NaN\n",
      "3       NaN   NAN\n",
      "0    127500\n",
      "1    106000\n",
      "2    178100\n",
      "3    140000\n",
      "Name: Price, dtype: int64\n",
      "   NumRooms Alley\n",
      "0       3.0  Pave\n",
      "1       2.0   NaN\n",
      "2       4.0   NaN\n",
      "3       3.0   NAN\n",
      "   NumRooms  Alley_NAN  Alley_Pave  Alley_nan\n",
      "0       3.0          0           1          0\n",
      "1       2.0          0           0          1\n",
      "2       4.0          0           0          1\n",
      "3       3.0          1           0          0\n",
      "tensor([[3., 0., 1., 0.],\n",
      "        [2., 0., 0., 1.],\n",
      "        [4., 0., 0., 1.],\n",
      "        [3., 1., 0., 0.]], dtype=torch.float64) tensor([127500, 106000, 178100, 140000])\n"
     ]
    }
   ],
   "source": [
    "import os\n",
    "import torch\n",
    "import pandas as pd # 一个处理 csv 的库\n",
    "\n",
    "# 创建一个 , 分隔的记录文件\n",
    "os.makedirs(os.path.join('..', 'AI_Python_Data'), exist_ok=True)\n",
    "data_file = os.path.join('..', 'AI_Python_Data', 'house_tiny.csv')\n",
    "with open(data_file, 'w') as f:\n",
    "    f.write('NumRooms,Alley,Price\\n')  # 列名\n",
    "    f.write('NA,Pave,127500\\n')  # 每行表示一个数据样本\n",
    "    f.write('2,NA,106000\\n')\n",
    "    f.write('4,NA,178100\\n')\n",
    "    f.write('NA,NAN,140000\\n')\n",
    "\n",
    "# 读取文件, 这里有缺失数据\n",
    "data = pd.read_csv(data_file)\n",
    "print(data)\n",
    "data\n",
    "\n",
    "inputs, outputs = data.iloc[:, 0:2], data.iloc[:, 2]\n",
    "print(inputs) # 前两列\n",
    "print(outputs) # 最后一列\n",
    "\n",
    "# inputs 填入为不是 NA 的项的均值, String 不会产生变化\n",
    "inputs = inputs.fillna(inputs.mean())\n",
    "print(inputs)\n",
    "\n",
    "# 把出现的不同的 字符转换成 特征\n",
    "# 注意到 NA 在 csv 里面, 是有特殊的含义的, 能够匹配 dummy_na 这个流程\n",
    "inputs = pd.get_dummies(inputs, dummy_na=True)\n",
    "print(inputs)\n",
    "\n",
    "X, Y = torch.tensor(inputs.values), torch.tensor(outputs.values)\n",
    "print(X, Y) # 最后转成 torch 中的张量 作为输出"
   ]
  },
  {
   "cell_type": "code",
   "execution_count": null,
   "id": "3f30be3a",
   "metadata": {},
   "outputs": [],
   "source": []
  },
  {
   "cell_type": "code",
   "execution_count": null,
   "id": "f50d9033",
   "metadata": {},
   "outputs": [],
   "source": []
  },
  {
   "cell_type": "code",
   "execution_count": null,
   "id": "280bcd55",
   "metadata": {},
   "outputs": [],
   "source": []
  },
  {
   "cell_type": "code",
   "execution_count": null,
   "id": "37612801",
   "metadata": {},
   "outputs": [],
   "source": []
  },
  {
   "cell_type": "code",
   "execution_count": null,
   "id": "3dd33a53",
   "metadata": {},
   "outputs": [],
   "source": []
  }
 ],
 "metadata": {
  "kernelspec": {
   "display_name": "Python 3 (ipykernel)",
   "language": "python",
   "name": "python3"
  },
  "language_info": {
   "codemirror_mode": {
    "name": "ipython",
    "version": 3
   },
   "file_extension": ".py",
   "mimetype": "text/x-python",
   "name": "python",
   "nbconvert_exporter": "python",
   "pygments_lexer": "ipython3",
   "version": "3.8.12"
  }
 },
 "nbformat": 4,
 "nbformat_minor": 5
}
