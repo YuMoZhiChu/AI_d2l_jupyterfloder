{
 "cells": [
  {
   "cell_type": "code",
   "execution_count": 29,
   "id": "8869bea5",
   "metadata": {},
   "outputs": [
    {
     "name": "stdout",
     "output_type": "stream",
     "text": [
      "tensor([ 0,  1,  2,  3,  4,  5,  6,  7,  8,  9, 10, 11])\n",
      "torch.Size([12])\n",
      "12\n",
      "x_3_4 =  tensor([[ 0,  1,  2,  3],\n",
      "        [ 4,  5,  6,  7],\n",
      "        [ 8,  9, 10, 11]])\n",
      "x_6_2 =  tensor([[ 0,  1],\n",
      "        [ 2,  3],\n",
      "        [ 4,  5],\n",
      "        [ 6,  7],\n",
      "        [ 8,  9],\n",
      "        [10, 11]])\n",
      "x_2_2_3 =  tensor([[[ 0,  1,  2],\n",
      "         [ 3,  4,  5]],\n",
      "\n",
      "        [[ 6,  7,  8],\n",
      "         [ 9, 10, 11]]])\n",
      "all 0 :  tensor([[[0., 0., 0., 0.],\n",
      "         [0., 0., 0., 0.],\n",
      "         [0., 0., 0., 0.]],\n",
      "\n",
      "        [[0., 0., 0., 0.],\n",
      "         [0., 0., 0., 0.],\n",
      "         [0., 0., 0., 0.]]])\n",
      "all 1 :  tensor([[[1., 1., 1., 1.],\n",
      "         [1., 1., 1., 1.],\n",
      "         [1., 1., 1., 1.]],\n",
      "\n",
      "        [[1., 1., 1., 1.],\n",
      "         [1., 1., 1., 1.],\n",
      "         [1., 1., 1., 1.]]])\n",
      "python assign :  tensor([[[1, 2, 3]]])\n",
      "+-*/** :  tensor([ 3.,  4.,  6., 10.]) tensor([-1.,  0.,  2.,  6.]) tensor([ 2.,  4.,  8., 16.]) tensor([0.5000, 1.0000, 2.0000, 4.0000]) tensor([ 1.,  4., 16., 64.])\n",
      "exp:  tensor([2.7183e+00, 7.3891e+00, 5.4598e+01, 2.9810e+03])\n",
      "X :  tensor([[ 0.,  1.,  2.,  3.],\n",
      "        [ 4.,  5.,  6.,  7.],\n",
      "        [ 8.,  9., 10., 11.]])\n",
      "Y :  tensor([[2., 1., 4., 3.],\n",
      "        [1., 2., 3., 4.],\n",
      "        [4., 3., 2., 1.]])\n",
      "cat_0 :  (tensor([[ 0.,  1.,  2.,  3.],\n",
      "        [ 4.,  5.,  6.,  7.],\n",
      "        [ 8.,  9., 10., 11.],\n",
      "        [ 2.,  1.,  4.,  3.],\n",
      "        [ 1.,  2.,  3.,  4.],\n",
      "        [ 4.,  3.,  2.,  1.]]),)\n",
      "cat_1 :  (tensor([[ 0.,  1.,  2.,  3.,  2.,  1.,  4.,  3.],\n",
      "        [ 4.,  5.,  6.,  7.,  1.,  2.,  3.,  4.],\n",
      "        [ 8.,  9., 10., 11.,  4.,  3.,  2.,  1.]]),)\n",
      "X==Y tensor([[False,  True, False,  True],\n",
      "        [False, False, False, False],\n",
      "        [False, False, False, False]])\n"
     ]
    },
    {
     "data": {
      "text/plain": [
       "tensor(66.)"
      ]
     },
     "execution_count": 29,
     "metadata": {},
     "output_type": "execute_result"
    }
   ],
   "source": [
    "import torch\n",
    "x = torch.arange(12) # 生成 [0,12) 为一个向量 (2 维 的一个 张量)\n",
    "\n",
    "print(x) # 打印该 张量\n",
    "print(x.shape) # 访问 形状\n",
    "print(x.numel()) # 访问 元素的总数, 这是一个标量\n",
    "\n",
    "# 不改变元素数量和元素值, 调整一个 张量 的形状\n",
    "x_3_4 = x.reshape(3,4)\n",
    "print(\"x_3_4 = \", x_3_4)\n",
    "\n",
    "# 如果形状对不上, 就会出错\n",
    "# x_3_3 = x.reshape(3,3)\n",
    "\n",
    "x_6_2 = x_3_4.reshape(6,2)\n",
    "print(\"x_6_2 = \", x_6_2)\n",
    "\n",
    "x_2_2_3 = x_6_2.reshape(2,2,3)\n",
    "print(\"x_2_2_3 = \", x_2_2_3)\n",
    "\n",
    "# 创建 全0/1 的函数\n",
    "print(\"all 0 : \", torch.zeros((2,3,4)))\n",
    "print(\"all 1 : \", torch.ones((2,3,4)))\n",
    "\n",
    "# 通过 Python 的 可嵌套列表来赋值 几层中括号就是几个维度\n",
    "print(\"python assign : \", torch.tensor([[[1,2,3]]]))\n",
    "\n",
    "# 按元素进行的 +-*/ 以及 求幂\n",
    "x = torch.tensor([1.0, 2, 4, 8])\n",
    "y = torch.tensor([2, 2, 2, 2])\n",
    "print(\"+-*/** : \", x + y, x - y, x * y, x / y, x ** y)\n",
    "\n",
    "# 每个元素做指数的运算\n",
    "print(\"exp: \",torch.exp(x))\n",
    "\n",
    "# 多个张量连结到一起\n",
    "X = torch.arange(12, dtype=torch.float32).reshape((3,4)) # 指定数据类型是 float 32\n",
    "Y = torch.tensor([[2.0, 1, 4, 3], [1, 2, 3, 4], [4, 3, 2, 1]])\n",
    "print(\"X : \", X)\n",
    "print(\"Y : \", Y)\n",
    "\n",
    "# 按照维度来进行合并, 注意，他们总共就只有 2 个维度\n",
    "# 第 0 个维度合并, 所以是 (3+3,4)\n",
    "cat_0 = torch.cat((X, Y), dim=0),\n",
    "print(\"cat_0 : \", cat_0)\n",
    "# 第 1 个维度合并, 所以是 (3, 4+4)\n",
    "cat_1 = torch.cat((X, Y), dim=1),\n",
    "print(\"cat_1 : \", cat_1)\n",
    "\n",
    "# 按照逻辑运算符, 构成张量, 依然是逐元素计算\n",
    "print(\"X==Y\", X==Y)\n",
    "\n",
    "# 全体求和,得到标量\n",
    "X.sum()"
   ]
  },
  {
   "cell_type": "code",
   "execution_count": null,
   "id": "a251c213",
   "metadata": {},
   "outputs": [],
   "source": []
  },
  {
   "cell_type": "code",
   "execution_count": null,
   "id": "696afe02",
   "metadata": {},
   "outputs": [],
   "source": []
  },
  {
   "cell_type": "code",
   "execution_count": null,
   "id": "381b7fc0",
   "metadata": {},
   "outputs": [],
   "source": []
  },
  {
   "cell_type": "code",
   "execution_count": null,
   "id": "cca81121",
   "metadata": {},
   "outputs": [],
   "source": []
  },
  {
   "cell_type": "code",
   "execution_count": null,
   "id": "65621bc2",
   "metadata": {},
   "outputs": [],
   "source": []
  }
 ],
 "metadata": {
  "kernelspec": {
   "display_name": "Python 3 (ipykernel)",
   "language": "python",
   "name": "python3"
  },
  "language_info": {
   "codemirror_mode": {
    "name": "ipython",
    "version": 3
   },
   "file_extension": ".py",
   "mimetype": "text/x-python",
   "name": "python",
   "nbconvert_exporter": "python",
   "pygments_lexer": "ipython3",
   "version": "3.8.12"
  }
 },
 "nbformat": 4,
 "nbformat_minor": 5
}
